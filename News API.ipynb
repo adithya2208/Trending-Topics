{
 "cells": [
  {
   "cell_type": "code",
   "execution_count": 28,
   "metadata": {},
   "outputs": [],
   "source": [
    "from newsapi import NewsApiClient\n",
    "import pickle\n",
    "import re\n",
    "import numpy as np\n",
    "from nltk import FreqDist\n",
    "from nltk import everygrams\n",
    "import matplotlib.pyplot as plt\n",
    "plt.style.use('classic')\n",
    "%matplotlib inline\n",
    "from pylab import rcParams\n",
    "from dateutil import parser\n",
    "from matplotlib.dates import DateFormatter\n",
    "from sklearn.feature_extraction.text import CountVectorizer\n",
    "from sklearn.metrics.pairwise import cosine_similarity\n",
    "from sklearn.feature_extraction.text import TfidfVectorizer"
   ]
  },
  {
   "cell_type": "code",
   "execution_count": 55,
   "metadata": {},
   "outputs": [],
   "source": [
    "#newsapi = NewsApiClient(api_key='a785f3dfd1e04e26b28230351629f2d8')"
   ]
  },
  {
   "cell_type": "code",
   "execution_count": 56,
   "metadata": {},
   "outputs": [],
   "source": [
    "#sources = newsapi.get_sources()"
   ]
  },
  {
   "cell_type": "code",
   "execution_count": 57,
   "metadata": {
    "scrolled": true
   },
   "outputs": [
    {
     "data": {
      "text/plain": [
       "['abc-news',\n",
       " 'abc-news-au',\n",
       " 'al-jazeera-english',\n",
       " 'ars-technica',\n",
       " 'associated-press',\n",
       " 'australian-financial-review',\n",
       " 'axios',\n",
       " 'bbc-news',\n",
       " 'bbc-sport',\n",
       " 'bleacher-report',\n",
       " 'bloomberg',\n",
       " 'breitbart-news',\n",
       " 'business-insider',\n",
       " 'business-insider-uk',\n",
       " 'buzzfeed',\n",
       " 'cbc-news',\n",
       " 'cbs-news',\n",
       " 'cnbc',\n",
       " 'cnn',\n",
       " 'crypto-coins-news',\n",
       " 'daily-mail',\n",
       " 'engadget',\n",
       " 'entertainment-weekly',\n",
       " 'espn',\n",
       " 'espn-cric-info',\n",
       " 'financial-post',\n",
       " 'financial-times',\n",
       " 'football-italia',\n",
       " 'fortune',\n",
       " 'four-four-two',\n",
       " 'fox-news',\n",
       " 'fox-sports',\n",
       " 'google-news',\n",
       " 'google-news-au',\n",
       " 'google-news-ca',\n",
       " 'google-news-in',\n",
       " 'google-news-uk',\n",
       " 'hacker-news',\n",
       " 'ign',\n",
       " 'independent',\n",
       " 'mashable',\n",
       " 'medical-news-today',\n",
       " 'metro',\n",
       " 'mirror',\n",
       " 'msnbc',\n",
       " 'mtv-news',\n",
       " 'mtv-news-uk',\n",
       " 'national-geographic',\n",
       " 'national-review',\n",
       " 'nbc-news',\n",
       " 'news24',\n",
       " 'new-scientist',\n",
       " 'news-com-au',\n",
       " 'newsweek',\n",
       " 'new-york-magazine',\n",
       " 'next-big-future',\n",
       " 'nfl-news',\n",
       " 'nhl-news',\n",
       " 'politico',\n",
       " 'polygon',\n",
       " 'recode',\n",
       " 'reddit-r-all',\n",
       " 'reuters',\n",
       " 'rte',\n",
       " 'talksport',\n",
       " 'techcrunch',\n",
       " 'techradar',\n",
       " 'the-american-conservative',\n",
       " 'the-economist',\n",
       " 'the-globe-and-mail',\n",
       " 'the-hill',\n",
       " 'the-hindu',\n",
       " 'the-huffington-post',\n",
       " 'the-irish-times',\n",
       " 'the-jerusalem-post',\n",
       " 'the-lad-bible',\n",
       " 'the-new-york-times',\n",
       " 'the-next-web',\n",
       " 'the-sport-bible',\n",
       " 'the-telegraph',\n",
       " 'the-times-of-india',\n",
       " 'the-verge',\n",
       " 'the-wall-street-journal',\n",
       " 'the-washington-post',\n",
       " 'the-washington-times',\n",
       " 'time',\n",
       " 'usa-today',\n",
       " 'vice-news',\n",
       " 'wired']"
      ]
     },
     "execution_count": 57,
     "metadata": {},
     "output_type": "execute_result"
    }
   ],
   "source": [
    "#id=[]\n",
    "#for i in sources['sources']:\n",
    "    #if i['language']=='en':\n",
    "        #id.append(i['id'])\n",
    "#id"
   ]
  },
  {
   "cell_type": "code",
   "execution_count": 58,
   "metadata": {
    "scrolled": true
   },
   "outputs": [],
   "source": [
    "#articles=[]\n",
    "#for i in id:\n",
    "    #all_articles = newsapi.get_everything(q='brexit',from_param='2019-04-06',to='2019-04-09',sources=i)\n",
    "    #articles.append(all_articles)"
   ]
  },
  {
   "cell_type": "code",
   "execution_count": null,
   "metadata": {},
   "outputs": [],
   "source": []
  },
  {
   "cell_type": "code",
   "execution_count": 59,
   "metadata": {},
   "outputs": [],
   "source": [
    "#with open('articles12h', 'wb') as fp:\n",
    "    #pickle.dump(articles, fp)"
   ]
  },
  {
   "cell_type": "code",
   "execution_count": 29,
   "metadata": {},
   "outputs": [],
   "source": [
    "with open('articles24h','rb') as fp:\n",
    "    articles=pickle.load(fp)\n"
   ]
  },
  {
   "cell_type": "code",
   "execution_count": 36,
   "metadata": {},
   "outputs": [],
   "source": [
    "while [] in articles:\n",
    "    articles.remove([])\n",
    "for i in articles:\n",
    "    if i['totalResults']==0:\n",
    "        articles.remove(i)\n",
    "with open('sw1.txt','r') as f:\n",
    "    stop_words=f.readlines()\n",
    "    for i in range(len(stop_words)):\n",
    "        stop_words[i]=stop_words[i].rstrip().lower()"
   ]
  },
  {
   "cell_type": "code",
   "execution_count": 37,
   "metadata": {},
   "outputs": [
    {
     "data": {
      "text/plain": [
       "356"
      ]
     },
     "execution_count": 37,
     "metadata": {},
     "output_type": "execute_result"
    }
   ],
   "source": [
    "x=[]\n",
    "news=[]\n",
    "article_time_list=[]\n",
    "\n",
    "for i in articles:\n",
    "    if i['articles'][0]['source']['name'] not in x:\n",
    "        x.append(i['articles'][0]['source']['name'])\n",
    "        \n",
    "        i=i['articles']\n",
    "        sum=0\n",
    "        for j in i:\n",
    "            article_time=j['publishedAt']\n",
    "            j=j['title']\n",
    "            j=j.lower()\n",
    "            j=j.replace('’','\\'')\n",
    "            j=j.split()\n",
    "            j = [w for w in j if not w in stop_words]\n",
    "            j=\" \".join(j)\n",
    "            j = re.sub(r'[^\\w\\s]','',j)\n",
    "    \n",
    "            if j not in news:\n",
    "                article_time_list.append(article_time)\n",
    "                news.append(j)\n",
    "                sum+=1\n",
    "        with open('articles_per_source.txt','a') as f:\n",
    "            f.write(i[0]['source']['name']+'\\t'+str(sum)+'\\n')\n",
    "\n",
    "len(news)"
   ]
  },
  {
   "cell_type": "code",
   "execution_count": 38,
   "metadata": {},
   "outputs": [
    {
     "data": {
      "text/plain": [
       "139"
      ]
     },
     "execution_count": 38,
     "metadata": {},
     "output_type": "execute_result"
    }
   ],
   "source": [
    "with open('topics24h','r') as f:\n",
    "    topics=f.readlines()\n",
    "\n",
    "for i in range(len(topics)):\n",
    "    topics[i]=topics[i].rstrip()\n",
    "    topics[i] = re.sub(r'[^\\w\\s]','',topics[i])\n",
    "    topics[i]=topics[i].split()\n",
    "    topics[i]=list(set(topics[i]))\n",
    "    if 'http' in topics[i]:\n",
    "        topics[i].remove('http')\n",
    "    if 'https' in topics[i]:\n",
    "        topics[i].remove('https')\n",
    "    topics[i]=\" \".join(topics[i])\n",
    "topics=list(set(topics))\n",
    "len(topics)-23"
   ]
  },
  {
   "cell_type": "code",
   "execution_count": 39,
   "metadata": {},
   "outputs": [],
   "source": [
    "def get_jaccard_sim(str1, str2): \n",
    "    a = set(str1.split()) \n",
    "    b = set(str2.split())\n",
    "    c = a.intersection(b)\n",
    "    return float(len(c)) / (len(a) + len(b) - len(c))"
   ]
  },
  {
   "cell_type": "code",
   "execution_count": 46,
   "metadata": {
    "scrolled": true
   },
   "outputs": [
    {
     "name": "stdout",
     "output_type": "stream",
     "text": [
      "globalist brexit annabd20 al uk gore res forcing referendum stealingthevote cowards politicians election \n",
      " al gore brands uk politicians cowards forcing brexit referendum \n",
      "\n",
      "british clear brexit government people half parliament betray delivering \n",
      " majority british parliament brexit referendum  reuters analysis \n",
      "\n",
      "labour leave \n",
      " leave eu work \n",
      "\n",
      "nickreeves9876 vote brexit labour push soft peoples \n",
      " big brexit vote \n",
      "\n",
      "globalist brexit forcing annabd20 uk al res gore referendum stealingthevote cowards politicians election \n",
      " al gore brands uk politicians cowards forcing brexit referendum \n",
      "\n",
      "leave eu \n",
      " latest may uk leave eu deal rejected \n",
      "\n",
      "brexit yo generation party argyleloz fucking blamed eu theresa \n",
      " theresa implore eu win backing brexit deal \n",
      "\n",
      "gerrymandering brexit won \n",
      " driving brexit \n",
      "\n",
      "deal brexit \n",
      " we leave theresa sounds lastditch warning brexit deal \n",
      "\n",
      "nickreeves9876 greater amp brexit sickening downplay deceit corbyn climate pr poverty change crisis claiming \n",
      " poverty climate important brexit corbyn \n",
      "\n",
      "madness brexit week sign mps make save britain \n",
      " mps reject theresa mays brexit deal week \n",
      "\n",
      "hours brexit \n",
      " driving brexit \n",
      "\n",
      "deal reject \n",
      " mps reject theresa mays brexit deal week \n",
      "\n",
      "british pm brexit theresamay push make eu deal parliament urges \n",
      " uk leader theresa parliament rejects brexit deal week we leave eu \n",
      "\n",
      "brexit annabd20 al gore uk res forcing referendum stealingthevote cowards election politicians globalist \n",
      " al gore brands uk politicians cowards forcing brexit referendum \n",
      "\n",
      "week twitter time \n",
      " business week \n",
      "\n",
      "brexit cox jo pro murder \n",
      " brexit cox barnier blame game begins \n",
      "\n",
      "brexit bevanite2017 paste \n",
      " driving brexit \n",
      "\n",
      "british pm \n",
      " british pm presses eu one push brexit deal \n",
      "\n",
      "voted leave \n",
      " leave eu work \n",
      "\n",
      "honour brexit union unilaterally customs leave \n",
      " mays brexit deal set defeated 100 votes peers back customs union \n",
      "\n",
      "requires eu backstop femi_sorry northern faith summary negotiate ireland good leave \n",
      " divide rule dup slams degrading eu offer uk leave backstop minus northern ireland \n",
      "\n",
      "british brexit people belongs world tells \n",
      " brexit british labour jeremy corbyn \n",
      "\n",
      "voted brexit \n",
      " driving brexit \n",
      "\n",
      "brexit pro \n",
      " driving brexit \n",
      "\n",
      "brexit hard \n",
      " driving brexit \n",
      "\n",
      "brexit lexit tweets great boards paste poster britain \n",
      " brexit britain ruletaker \n",
      "\n",
      "globalist brexit gore al uk forcing res annabd20 referendum stealingthevote cowards politicians election \n",
      " al gore brands uk politicians cowards forcing brexit referendum \n",
      "\n",
      "telegraph brexit memo plot uk leaked camillatominey eu union permanent customs \n",
      " uk official eu playing games brexit \n",
      "\n",
      "latest brexit \n",
      " latest eu parliaments brexit chief long delay \n",
      "\n",
      "deal \n",
      " brexit deal parliament \n",
      "\n",
      "brexit britain \n",
      " driving brexit \n",
      "\n",
      "british mike_fabricant clear brexit government people half parliament betray delivering \n",
      " majority british parliament brexit referendum  reuters analysis \n",
      "\n",
      "globalist brexit annabd20 al gore uk res forcing referendum stealingthevote cowards politicians election \n",
      " al gore brands uk politicians cowards forcing brexit referendum \n",
      "\n",
      "greater optimism confidence speaks commonwealth delivers queen \n",
      " queen speaks greater confidence optimism stable links commonwealth 70th anniversary \n",
      "\n",
      "mps brexit save britain \n",
      " mps reject theresa mays brexit deal week \n",
      "\n",
      "british people brexit delivering \n",
      " brexit british labour jeremy corbyn \n",
      "\n",
      "united skydavidblevins constitutional economic sources barnier integrity offer kingdom respect dup shows \n",
      " dup sources describe barnier offer nonstarter sky news \n",
      "\n",
      "brexit room backstop elephant teresamays kicking idea \n",
      " breakthrough brexit backstop \n",
      "\n",
      "major membership uk give influence eu nonsense idea leave \n",
      " latest may uk leave eu deal rejected \n",
      "\n",
      "40\n"
     ]
    }
   ],
   "source": [
    "x=[]\n",
    "sum=0\n",
    "for i in topics:\n",
    "    for j in news:\n",
    "        if get_jaccard_sim(i,j)>0.2:\n",
    "            x.append(i)\n",
    "            print(i,'\\n',j,'\\n')\n",
    "            sum+=1\n",
    "            break\n",
    "print(sum)"
   ]
  },
  {
   "cell_type": "code",
   "execution_count": 47,
   "metadata": {},
   "outputs": [],
   "source": [
    "\n",
    "tfidf_vectorizer = TfidfVectorizer()"
   ]
  },
  {
   "cell_type": "code",
   "execution_count": 48,
   "metadata": {
    "scrolled": true
   },
   "outputs": [
    {
     "name": "stdout",
     "output_type": "stream",
     "text": [
      "globalist brexit annabd20 al uk gore res forcing referendum stealingthevote cowards politicians election \n",
      " al gore brands uk politicians cowards forcing brexit referendum 0.6549552418747807 \n",
      "\n",
      "british clear brexit government people half parliament betray delivering \n",
      " brexit deal parliament 0.2519419824201741 \n",
      "\n",
      "birminghams crufts \n",
      " crufts dog show affected brexit 0.3304631872084195 \n",
      "\n",
      "labour leave \n",
      " leave eu work 0.40517350401803387 \n",
      "\n",
      "globalist brexit forcing annabd20 uk al res gore referendum stealingthevote cowards politicians election \n",
      " al gore brands uk politicians cowards forcing brexit referendum 0.6549552418747807 \n",
      "\n",
      "leave eu \n",
      " leave eu work 0.6934338341058801 \n",
      "\n",
      "deal brexit \n",
      " brexit deal parliament 0.5921284933388467 \n",
      "\n",
      "nickreeves9876 greater amp brexit sickening downplay deceit corbyn climate pr poverty change crisis claiming \n",
      " poverty climate important brexit corbyn 0.3683197345216178 \n",
      "\n",
      "madness brexit week sign mps make save britain \n",
      " mps reject theresa mays brexit deal week 0.2656555133031025 \n",
      "\n",
      "hours brexit \n",
      " theresa desperately attempts salvage brexit deal 48 hours critical commons vote 0.3348957755258836 \n",
      "\n",
      "deal reject \n",
      " mps reject theresa mays brexit deal week 0.5704128108255766 \n",
      "\n",
      "british pm brexit theresamay push make eu deal parliament urges \n",
      " british pm presses eu one push brexit deal 0.47942884256759355 \n",
      "\n",
      "brexit annabd20 al gore uk res forcing referendum stealingthevote cowards election politicians globalist \n",
      " al gore brands uk politicians cowards forcing brexit referendum 0.6549552418747807 \n",
      "\n",
      "week twitter time \n",
      " business week 0.29743412267019376 \n",
      "\n",
      "working corbyn \n",
      " brexit british labour jeremy corbyn 0.33221588800682206 \n",
      "\n",
      "british mep \n",
      " brexit british labour jeremy corbyn 0.2516251172432181 \n",
      "\n",
      "breeders birminghams crufts \n",
      " crufts dog show affected brexit 0.26682931557761785 \n",
      "\n",
      "british pm \n",
      " british pm issues dire warning brexit 0.5409105582724487 \n",
      "\n",
      "british seeking brexit rerun claim rcorbettmep govt eu nonsense arguments \n",
      " uk brexit minister time rerun arguments irish backstop 0.30685221276056707 \n",
      "\n",
      "voted leave \n",
      " leave eu work 0.34177185792067266 \n",
      "\n",
      "honour brexit union unilaterally customs leave \n",
      " barnier offers uk unilateral exit customs union 0.3217639272733031 \n",
      "\n",
      "postbrexit decision \n",
      " postbrexit trade deal make lifesaving drugs unaffordable nhs 0.25859031706882385 \n",
      "\n",
      "requires eu backstop femi_sorry northern faith summary negotiate ireland good leave \n",
      " divide rule dup slams degrading eu offer uk leave backstop minus northern ireland 0.2975239694625012 \n",
      "\n",
      "voted brexit \n",
      " racist voted brexit furious tv clash tory 0.41979845183178827 \n",
      "\n",
      "brexit hard \n",
      " soft brexit hard brexit endless brexit 0.6034384088243911 \n",
      "\n",
      "owner back fighting sturdyalex br upsides tears business staff livelihood worried \n",
      " brexit fighting 0.28781956389613395 \n",
      "\n",
      "globalist brexit gore al uk forcing res annabd20 referendum stealingthevote cowards politicians election \n",
      " al gore brands uk politicians cowards forcing brexit referendum 0.6549552418747807 \n",
      "\n",
      "telegraph brexit memo plot uk leaked camillatominey eu union permanent customs \n",
      " barnier offers uk unilateral exit customs union 0.2686227770916817 \n",
      "\n",
      "latest brexit \n",
      " latest eu parliaments brexit chief long delay 0.42294072589453063 \n",
      "\n",
      "deal \n",
      " brexit deal parliament 0.5224100715142487 \n",
      "\n",
      "british people \n",
      " brexit british labour jeremy corbyn 0.2516251172432181 \n",
      "\n",
      "17410742 week brexiteers parliament votes series britain \n",
      " brexit deal parliament 0.2565487930561624 \n",
      "\n",
      "brexit britain \n",
      " brexit britain ruletaker 0.6092395972354641 \n",
      "\n",
      "globalist brexit annabd20 al gore uk res forcing referendum stealingthevote cowards politicians election \n",
      " al gore brands uk politicians cowards forcing brexit referendum 0.6549552418747807 \n",
      "\n",
      "greater optimism confidence speaks commonwealth delivers queen \n",
      " queen speaks greater confidence optimism stable links commonwealth 70th anniversary 0.6881204410004337 \n",
      "\n",
      "mps brexit save britain \n",
      " brexit britain ruletaker 0.3593917791597216 \n",
      "\n",
      "united skydavidblevins constitutional economic sources barnier integrity offer kingdom respect dup shows \n",
      " dup sources describe barnier offer nonstarter sky news 0.3323987606394729 \n",
      "\n",
      "37\n"
     ]
    }
   ],
   "source": [
    "sum=0\n",
    "for i in topics:\n",
    "    news.append(i)\n",
    "    tfidf_matrix = tfidf_vectorizer.fit_transform(news)\n",
    "    a=cosine_similarity(tfidf_matrix[-1], tfidf_matrix)[0][:-1]\n",
    "    del news[-1]\n",
    "    if max(a)>0.25:\n",
    "        sum+=1\n",
    "        x.append(i)\n",
    "        print(i,'\\n',news[np.argmax(a)],max(a),'\\n')\n",
    "print(sum)    "
   ]
  },
  {
   "cell_type": "code",
   "execution_count": 56,
   "metadata": {},
   "outputs": [
    {
     "data": {
      "text/plain": [
       "['postbrexit decision',\n",
       " 'latest brexit',\n",
       " 'requires eu backstop femi_sorry northern faith summary negotiate ireland good leave',\n",
       " 'week twitter time',\n",
       " 'deal',\n",
       " 'brexit cox jo pro murder',\n",
       " '17410742 week brexiteers parliament votes series britain',\n",
       " 'british people',\n",
       " 'globalist brexit annabd20 al uk gore res forcing referendum stealingthevote cowards politicians election',\n",
       " 'british clear brexit government people half parliament betray delivering',\n",
       " 'british mep',\n",
       " 'working corbyn',\n",
       " 'british brexit people belongs world tells',\n",
       " 'brexit bevanite2017 paste',\n",
       " 'brexit britain',\n",
       " 'birminghams crufts',\n",
       " 'british mike_fabricant clear brexit government people half parliament betray delivering',\n",
       " 'labour leave',\n",
       " 'voted brexit',\n",
       " 'nickreeves9876 vote brexit labour push soft peoples',\n",
       " 'brexit pro',\n",
       " 'globalist brexit annabd20 al gore uk res forcing referendum stealingthevote cowards politicians election',\n",
       " 'globalist brexit forcing annabd20 uk al res gore referendum stealingthevote cowards politicians election',\n",
       " 'greater optimism confidence speaks commonwealth delivers queen',\n",
       " 'breeders birminghams crufts',\n",
       " 'brexit hard',\n",
       " 'british pm',\n",
       " 'leave eu',\n",
       " 'brexit lexit tweets great boards paste poster britain',\n",
       " 'brexit yo generation party argyleloz fucking blamed eu theresa',\n",
       " 'owner back fighting sturdyalex br upsides tears business staff livelihood worried',\n",
       " 'gerrymandering brexit won',\n",
       " 'mps brexit save britain',\n",
       " 'deal brexit',\n",
       " 'nickreeves9876 greater amp brexit sickening downplay deceit corbyn climate pr poverty change crisis claiming',\n",
       " 'british seeking brexit rerun claim rcorbettmep govt eu nonsense arguments',\n",
       " 'madness brexit week sign mps make save britain',\n",
       " 'british people brexit delivering',\n",
       " 'globalist brexit gore al uk forcing res annabd20 referendum stealingthevote cowards politicians election',\n",
       " 'voted leave',\n",
       " 'united skydavidblevins constitutional economic sources barnier integrity offer kingdom respect dup shows',\n",
       " 'honour brexit union unilaterally customs leave',\n",
       " 'hours brexit',\n",
       " 'brexit room backstop elephant teresamays kicking idea',\n",
       " 'deal reject',\n",
       " 'major membership uk give influence eu nonsense idea leave',\n",
       " 'british pm brexit theresamay push make eu deal parliament urges',\n",
       " 'telegraph brexit memo plot uk leaked camillatominey eu union permanent customs',\n",
       " 'brexit annabd20 al gore uk res forcing referendum stealingthevote cowards election politicians globalist']"
      ]
     },
     "execution_count": 56,
     "metadata": {},
     "output_type": "execute_result"
    }
   ],
   "source": [
    "x=list(set(x))\n",
    "len(x)\n",
    "x"
   ]
  },
  {
   "cell_type": "code",
   "execution_count": 54,
   "metadata": {},
   "outputs": [
    {
     "data": {
      "text/plain": [
       "226"
      ]
     },
     "execution_count": 54,
     "metadata": {},
     "output_type": "execute_result"
    }
   ],
   "source": [
    "with open('topics24h','r') as f:\n",
    "    topics=f.readlines()\n",
    "\n",
    "time_list=[]\n",
    "for i in range(len(topics)):\n",
    "    topics[i]=topics[i].rstrip()\n",
    "    if re.match(r'^2019',topics[i]):\n",
    "        time_list.append(topics[i])\n",
    "    topics[i] = re.sub(r'[^\\w\\s]','',topics[i])\n",
    "    topics[i]=topics[i].split()\n",
    "    topics[i]=list(set(topics[i]))\n",
    "    if 'http' in topics[i]:\n",
    "        topics[i].remove('http')\n",
    "    if 'https' in topics[i]:\n",
    "        topics[i].remove('https')\n",
    "    topics[i]=\" \".join(topics[i])\n",
    "len(topics)"
   ]
  },
  {
   "cell_type": "code",
   "execution_count": 20,
   "metadata": {},
   "outputs": [
    {
     "data": {
      "text/plain": [
       "[1, 2, 2, 2, 2, 2, 3, 1, 2, 0, 5, 0, 9, 3, 1, 0, 0, 0, 5, 1, 4, 2, 2]"
      ]
     },
     "execution_count": 20,
     "metadata": {},
     "output_type": "execute_result"
    }
   ],
   "source": [
    "sum=0\n",
    "y1=[]\n",
    "for i in topics[1:]:\n",
    "    if re.search(r'^[0-9 ]*$',i):\n",
    "        y1.append(sum)\n",
    "        sum=0\n",
    "    if i in x:\n",
    "        sum+=1\n",
    "        x.remove(i)\n",
    "y1.append(sum)\n",
    "y1"
   ]
  },
  {
   "cell_type": "code",
   "execution_count": null,
   "metadata": {},
   "outputs": [],
   "source": []
  },
  {
   "cell_type": "code",
   "execution_count": 25,
   "metadata": {},
   "outputs": [],
   "source": [
    "for i in range(len(time_list)):\n",
    "    time_list[i]=parser.parse(time_list[i])"
   ]
  },
  {
   "cell_type": "code",
   "execution_count": 26,
   "metadata": {},
   "outputs": [
    {
     "data": {
      "text/plain": [
       "0"
      ]
     },
     "execution_count": 26,
     "metadata": {},
     "output_type": "execute_result"
    }
   ],
   "source": [
    "len(x)"
   ]
  },
  {
   "cell_type": "code",
   "execution_count": 27,
   "metadata": {},
   "outputs": [
    {
     "data": {
      "image/png": "[encoded data removed]",
      "text/plain": [
       "<Figure size 1152x720 with 1 Axes>"
      ]
     },
     "metadata": {
      "needs_background": "light"
     },
     "output_type": "display_data"
    }
   ],
   "source": [
    "\n",
    "rcParams['figure.figsize'] = 12,10\n",
    "formatter = DateFormatter('%H:%M')\n",
    "\n",
    "\n",
    "\n",
    "rcParams['figure.figsize'] = 16,10\n",
    "rcParams['font.size']=16\n",
    "rcParams['font.weight']=4\n",
    "    \n",
    "    \n",
    "plt.xticks(rotation=90)\n",
    "plt.xlabel('Time')\n",
    "plt.ylabel('Number of Trending Topics Detected by News')\n",
    "plt.plot(time_list,y1,marker='*',linewidth=1,color='r')\n",
    "plt.gcf().axes[0].xaxis.set_major_formatter(formatter)\n",
    "plt.savefig('index.eps',format='eps')\n"
   ]
  },
  {
   "cell_type": "code",
   "execution_count": 91,
   "metadata": {},
   "outputs": [
    {
     "data": {
      "text/plain": [
       "['2019-03-08 16:28:46',\n",
       " '2019-03-08 17:28:45',\n",
       " '2019-03-08 18:28:45',\n",
       " '2019-03-08 19:28:45',\n",
       " '2019-03-08 20:28:45',\n",
       " '2019-03-08 21:28:45',\n",
       " '2019-03-08 22:28:45',\n",
       " '2019-03-08 23:28:45',\n",
       " '2019-03-09 00:28:39',\n",
       " '2019-03-09 01:28:39',\n",
       " '2019-03-09 02:28:34',\n",
       " '2019-03-09 03:28:34',\n",
       " '2019-03-09 04:28:24',\n",
       " '2019-03-09 05:27:54',\n",
       " '2019-03-09 06:27:49',\n",
       " '2019-03-09 07:27:46',\n",
       " '2019-03-09 08:27:46',\n",
       " '2019-03-09 09:27:46',\n",
       " '2019-03-09 10:27:46',\n",
       " '2019-03-09 11:27:45',\n",
       " '2019-03-09 12:27:44',\n",
       " '2019-03-09 13:27:44',\n",
       " '2019-03-09 14:27:40']"
      ]
     },
     "execution_count": 91,
     "metadata": {},
     "output_type": "execute_result"
    }
   ],
   "source": [
    "for i in range(len(time_list)):\n",
    "    time_list[i]=str(time_list[i])\n",
    "time_list"
   ]
  },
  {
   "cell_type": "code",
   "execution_count": 143,
   "metadata": {},
   "outputs": [
    {
     "ename": "TypeError",
     "evalue": "Parser must be a string or character stream, not datetime",
     "output_type": "error",
     "traceback": [
      "\u001b[0;31m---------------------------------------------------------------------------\u001b[0m",
      "\u001b[0;31mTypeError\u001b[0m                                 Traceback (most recent call last)",
      "\u001b[0;32m<ipython-input-143-9a7e5bad2ccd>\u001b[0m in \u001b[0;36m<module>\u001b[0;34m()\u001b[0m\n\u001b[1;32m      1\u001b[0m \u001b[0;32mfor\u001b[0m \u001b[0mi\u001b[0m \u001b[0;32min\u001b[0m \u001b[0mrange\u001b[0m\u001b[0;34m(\u001b[0m\u001b[0mlen\u001b[0m\u001b[0;34m(\u001b[0m\u001b[0marticle_time_list\u001b[0m\u001b[0;34m)\u001b[0m\u001b[0;34m)\u001b[0m\u001b[0;34m:\u001b[0m\u001b[0;34m\u001b[0m\u001b[0;34m\u001b[0m\u001b[0m\n\u001b[0;32m----> 2\u001b[0;31m     \u001b[0marticle_time_list\u001b[0m\u001b[0;34m[\u001b[0m\u001b[0mi\u001b[0m\u001b[0;34m]\u001b[0m\u001b[0;34m=\u001b[0m\u001b[0mparser\u001b[0m\u001b[0;34m.\u001b[0m\u001b[0mparse\u001b[0m\u001b[0;34m(\u001b[0m\u001b[0marticle_time_list\u001b[0m\u001b[0;34m[\u001b[0m\u001b[0mi\u001b[0m\u001b[0;34m]\u001b[0m\u001b[0;34m)\u001b[0m\u001b[0;34m\u001b[0m\u001b[0;34m\u001b[0m\u001b[0m\n\u001b[0m\u001b[1;32m      3\u001b[0m \u001b[0mtime_list\u001b[0m\u001b[0;34m=\u001b[0m\u001b[0;34m[\u001b[0m\u001b[0;34m]\u001b[0m\u001b[0;34m\u001b[0m\u001b[0;34m\u001b[0m\u001b[0m\n\u001b[1;32m      4\u001b[0m \u001b[0mtime_list\u001b[0m\u001b[0;34m.\u001b[0m\u001b[0mappend\u001b[0m\u001b[0;34m(\u001b[0m\u001b[0marticle_time_list\u001b[0m\u001b[0;34m[\u001b[0m\u001b[0;36m0\u001b[0m\u001b[0;34m]\u001b[0m\u001b[0;34m)\u001b[0m\u001b[0;34m\u001b[0m\u001b[0;34m\u001b[0m\u001b[0m\n\u001b[1;32m      5\u001b[0m \u001b[0mit\u001b[0m\u001b[0;34m=\u001b[0m\u001b[0marticle_time_list\u001b[0m\u001b[0;34m[\u001b[0m\u001b[0;36m0\u001b[0m\u001b[0;34m]\u001b[0m\u001b[0;34m\u001b[0m\u001b[0;34m\u001b[0m\u001b[0m\n",
      "\u001b[0;32m~/.local/lib/python3.6/site-packages/dateutil/parser/_parser.py\u001b[0m in \u001b[0;36mparse\u001b[0;34m(timestr, parserinfo, **kwargs)\u001b[0m\n\u001b[1;32m   1356\u001b[0m         \u001b[0;32mreturn\u001b[0m \u001b[0mparser\u001b[0m\u001b[0;34m(\u001b[0m\u001b[0mparserinfo\u001b[0m\u001b[0;34m)\u001b[0m\u001b[0;34m.\u001b[0m\u001b[0mparse\u001b[0m\u001b[0;34m(\u001b[0m\u001b[0mtimestr\u001b[0m\u001b[0;34m,\u001b[0m \u001b[0;34m**\u001b[0m\u001b[0mkwargs\u001b[0m\u001b[0;34m)\u001b[0m\u001b[0;34m\u001b[0m\u001b[0;34m\u001b[0m\u001b[0m\n\u001b[1;32m   1357\u001b[0m     \u001b[0;32melse\u001b[0m\u001b[0;34m:\u001b[0m\u001b[0;34m\u001b[0m\u001b[0;34m\u001b[0m\u001b[0m\n\u001b[0;32m-> 1358\u001b[0;31m         \u001b[0;32mreturn\u001b[0m \u001b[0mDEFAULTPARSER\u001b[0m\u001b[0;34m.\u001b[0m\u001b[0mparse\u001b[0m\u001b[0;34m(\u001b[0m\u001b[0mtimestr\u001b[0m\u001b[0;34m,\u001b[0m \u001b[0;34m**\u001b[0m\u001b[0mkwargs\u001b[0m\u001b[0;34m)\u001b[0m\u001b[0;34m\u001b[0m\u001b[0;34m\u001b[0m\u001b[0m\n\u001b[0m\u001b[1;32m   1359\u001b[0m \u001b[0;34m\u001b[0m\u001b[0m\n\u001b[1;32m   1360\u001b[0m \u001b[0;34m\u001b[0m\u001b[0m\n",
      "\u001b[0;32m~/.local/lib/python3.6/site-packages/dateutil/parser/_parser.py\u001b[0m in \u001b[0;36mparse\u001b[0;34m(self, timestr, default, ignoretz, tzinfos, **kwargs)\u001b[0m\n\u001b[1;32m    644\u001b[0m                                                       second=0, microsecond=0)\n\u001b[1;32m    645\u001b[0m \u001b[0;34m\u001b[0m\u001b[0m\n\u001b[0;32m--> 646\u001b[0;31m         \u001b[0mres\u001b[0m\u001b[0;34m,\u001b[0m \u001b[0mskipped_tokens\u001b[0m \u001b[0;34m=\u001b[0m \u001b[0mself\u001b[0m\u001b[0;34m.\u001b[0m\u001b[0m_parse\u001b[0m\u001b[0;34m(\u001b[0m\u001b[0mtimestr\u001b[0m\u001b[0;34m,\u001b[0m \u001b[0;34m**\u001b[0m\u001b[0mkwargs\u001b[0m\u001b[0;34m)\u001b[0m\u001b[0;34m\u001b[0m\u001b[0;34m\u001b[0m\u001b[0m\n\u001b[0m\u001b[1;32m    647\u001b[0m \u001b[0;34m\u001b[0m\u001b[0m\n\u001b[1;32m    648\u001b[0m         \u001b[0;32mif\u001b[0m \u001b[0mres\u001b[0m \u001b[0;32mis\u001b[0m \u001b[0;32mNone\u001b[0m\u001b[0;34m:\u001b[0m\u001b[0;34m\u001b[0m\u001b[0;34m\u001b[0m\u001b[0m\n",
      "\u001b[0;32m~/.local/lib/python3.6/site-packages/dateutil/parser/_parser.py\u001b[0m in \u001b[0;36m_parse\u001b[0;34m(self, timestr, dayfirst, yearfirst, fuzzy, fuzzy_with_tokens)\u001b[0m\n\u001b[1;32m    720\u001b[0m \u001b[0;34m\u001b[0m\u001b[0m\n\u001b[1;32m    721\u001b[0m         \u001b[0mres\u001b[0m \u001b[0;34m=\u001b[0m \u001b[0mself\u001b[0m\u001b[0;34m.\u001b[0m\u001b[0m_result\u001b[0m\u001b[0;34m(\u001b[0m\u001b[0;34m)\u001b[0m\u001b[0;34m\u001b[0m\u001b[0;34m\u001b[0m\u001b[0m\n\u001b[0;32m--> 722\u001b[0;31m         \u001b[0ml\u001b[0m \u001b[0;34m=\u001b[0m \u001b[0m_timelex\u001b[0m\u001b[0;34m.\u001b[0m\u001b[0msplit\u001b[0m\u001b[0;34m(\u001b[0m\u001b[0mtimestr\u001b[0m\u001b[0;34m)\u001b[0m         \u001b[0;31m# Splits the timestr into tokens\u001b[0m\u001b[0;34m\u001b[0m\u001b[0;34m\u001b[0m\u001b[0m\n\u001b[0m\u001b[1;32m    723\u001b[0m \u001b[0;34m\u001b[0m\u001b[0m\n\u001b[1;32m    724\u001b[0m         \u001b[0mskipped_idxs\u001b[0m \u001b[0;34m=\u001b[0m \u001b[0;34m[\u001b[0m\u001b[0;34m]\u001b[0m\u001b[0;34m\u001b[0m\u001b[0;34m\u001b[0m\u001b[0m\n",
      "\u001b[0;32m~/.local/lib/python3.6/site-packages/dateutil/parser/_parser.py\u001b[0m in \u001b[0;36msplit\u001b[0;34m(cls, s)\u001b[0m\n\u001b[1;32m    205\u001b[0m     \u001b[0;34m@\u001b[0m\u001b[0mclassmethod\u001b[0m\u001b[0;34m\u001b[0m\u001b[0;34m\u001b[0m\u001b[0m\n\u001b[1;32m    206\u001b[0m     \u001b[0;32mdef\u001b[0m \u001b[0msplit\u001b[0m\u001b[0;34m(\u001b[0m\u001b[0mcls\u001b[0m\u001b[0;34m,\u001b[0m \u001b[0ms\u001b[0m\u001b[0;34m)\u001b[0m\u001b[0;34m:\u001b[0m\u001b[0;34m\u001b[0m\u001b[0;34m\u001b[0m\u001b[0m\n\u001b[0;32m--> 207\u001b[0;31m         \u001b[0;32mreturn\u001b[0m \u001b[0mlist\u001b[0m\u001b[0;34m(\u001b[0m\u001b[0mcls\u001b[0m\u001b[0;34m(\u001b[0m\u001b[0ms\u001b[0m\u001b[0;34m)\u001b[0m\u001b[0;34m)\u001b[0m\u001b[0;34m\u001b[0m\u001b[0;34m\u001b[0m\u001b[0m\n\u001b[0m\u001b[1;32m    208\u001b[0m \u001b[0;34m\u001b[0m\u001b[0m\n\u001b[1;32m    209\u001b[0m     \u001b[0;34m@\u001b[0m\u001b[0mclassmethod\u001b[0m\u001b[0;34m\u001b[0m\u001b[0;34m\u001b[0m\u001b[0m\n",
      "\u001b[0;32m~/.local/lib/python3.6/site-packages/dateutil/parser/_parser.py\u001b[0m in \u001b[0;36m__init__\u001b[0;34m(self, instream)\u001b[0m\n\u001b[1;32m     74\u001b[0m         \u001b[0;32melif\u001b[0m \u001b[0mgetattr\u001b[0m\u001b[0;34m(\u001b[0m\u001b[0minstream\u001b[0m\u001b[0;34m,\u001b[0m \u001b[0;34m'read'\u001b[0m\u001b[0;34m,\u001b[0m \u001b[0;32mNone\u001b[0m\u001b[0;34m)\u001b[0m \u001b[0;32mis\u001b[0m \u001b[0;32mNone\u001b[0m\u001b[0;34m:\u001b[0m\u001b[0;34m\u001b[0m\u001b[0;34m\u001b[0m\u001b[0m\n\u001b[1;32m     75\u001b[0m             raise TypeError('Parser must be a string or character stream, not '\n\u001b[0;32m---> 76\u001b[0;31m                             '{itype}'.format(itype=instream.__class__.__name__))\n\u001b[0m\u001b[1;32m     77\u001b[0m \u001b[0;34m\u001b[0m\u001b[0m\n\u001b[1;32m     78\u001b[0m         \u001b[0mself\u001b[0m\u001b[0;34m.\u001b[0m\u001b[0minstream\u001b[0m \u001b[0;34m=\u001b[0m \u001b[0minstream\u001b[0m\u001b[0;34m\u001b[0m\u001b[0;34m\u001b[0m\u001b[0m\n",
      "\u001b[0;31mTypeError\u001b[0m: Parser must be a string or character stream, not datetime"
     ]
    }
   ],
   "source": [
    "for i in range(len(article_time_list)):\n",
    "    article_time_list[i]=parser.parse(article_time_list[i])\n"
   ]
  },
  {
   "cell_type": "code",
   "execution_count": 150,
   "metadata": {},
   "outputs": [],
   "source": [
    "from datetime import timedelta\n",
    "article_time_list.sort()\n",
    "time_list=[]\n",
    "time_list.append(article_time_list[0])\n",
    "it=article_time_list[0]\n",
    "cnt=1\n",
    "cnt_list=[]\n",
    "for i in article_time_list[1:]:\n",
    "    if i-it>timedelta(seconds=3600):\n",
    "        time_list.append(i)\n",
    "        it=i\n",
    "        cnt_list.append(cnt)\n",
    "        cnt=0\n",
    "    else:\n",
    "        cnt+=1\n",
    "\n",
    "if cnt>0:\n",
    "    cnt_list.append(cnt)"
   ]
  },
  {
   "cell_type": "code",
   "execution_count": 173,
   "metadata": {},
   "outputs": [
    {
     "data": {
      "image/png": "[encoded data removed]",
      "text/plain": [
       "<Figure size 1152x720 with 1 Axes>"
      ]
     },
     "metadata": {
      "needs_background": "light"
     },
     "output_type": "display_data"
    }
   ],
   "source": [
    "plt.xticks(rotation=90)\n",
    "plt.xlabel('Time')\n",
    "plt.ylabel('Number of topics from news API')\n",
    "plt.plot(time_list,cnt_list,linewidth=1,color='r')\n",
    "formatter = DateFormatter('%D %H:%M')\n",
    "\n",
    "plt.gcf().axes[0].xaxis.set_major_formatter(formatter)\n",
    "plt.savefig('index2.eps',format='eps',figsize=(12,10))"
   ]
  },
  {
   "cell_type": "code",
   "execution_count": 93,
   "metadata": {},
   "outputs": [],
   "source": [
    "with open('topics12h','r') as f:\n",
    "    topics=f.readlines()\n",
    "\n",
    "y=[]\n",
    "for i in range(len(topics)):\n",
    "    sentence=topics[i].rstrip()\n",
    "    sentence = re.sub(r'[^\\w\\s]','',sentence)\n",
    "    sentence=sentence.split()\n",
    "    sentence=list(set(sentence))\n",
    "    if 'http' in sentence:\n",
    "        sentence.remove('http')\n",
    "    if 'https' in sentence:\n",
    "        sentence.remove('https')\n",
    "    sentence=\" \".join(sentence)\n",
    "    if sentence in x:\n",
    "        y.append(topics[i])\n",
    "\n",
    "y=list(set(y))\n",
    "with open('12htopics_in_news','w') as f:\n",
    "    f.writelines(y)"
   ]
  },
  {
   "cell_type": "code",
   "execution_count": 90,
   "metadata": {},
   "outputs": [
    {
     "data": {
      "text/plain": [
       "['brexit deal',\n",
       " 'daily mail',\n",
       " 'doozy_45 rover job brexit confirms land 4500 cuts peoplesvote jaguar eu icymi httpstco8ed3cwee9k',\n",
       " 'family leadsoms',\n",
       " 'based brexit',\n",
       " 'mu week end khaoniao eu stop idea playing',\n",
       " 'peoplesvote brexit',\n",
       " 'viscountbraith1 breaking',\n",
       " 'andrea leadsom',\n",
       " 'good morning',\n",
       " 'speech theresa brexit mays httpstcoybtqya84mc work jasemonkey comedy theresamay genius',\n",
       " 'pause long',\n",
       " 'brexit prime paralysed minister system',\n",
       " 'care brexit farmer damage hilarybennmp liveli calling deal explain',\n",
       " 'labour brexit backing httpstcokot55fzkk5 deliver referendum',\n",
       " 'mind brexit',\n",
       " 'huge andrew_adonis brexit great nightmare islington support end revoke 50 yesterday referendum rally article',\n",
       " 'voted leave',\n",
       " 'referendum brexit',\n",
       " 'brexit deliver',\n",
       " 'movement end freedom',\n",
       " 'care brexit hilarybennmp farmer damage liveli calling deal explain',\n",
       " 'brexit berlin angela 1200 ahead theresa_may tomorrow summit merkel',\n",
       " 'ecb minutes',\n",
       " 'time brexit funny true sad deplrblerzistr httpstco2ayjslmjr2',\n",
       " 'brexit stop',\n",
       " 'big']"
      ]
     },
     "execution_count": 90,
     "metadata": {},
     "output_type": "execute_result"
    }
   ],
   "source": [
    "x"
   ]
  }
 ],
 "metadata": {
  "kernelspec": {
   "display_name": "Python 3",
   "language": "python",
   "name": "python3"
  },
  "language_info": {
   "codemirror_mode": {
    "name": "ipython",
    "version": 3
   },
   "file_extension": ".py",
   "mimetype": "text/x-python",
   "name": "python",
   "nbconvert_exporter": "python",
   "pygments_lexer": "ipython3",
   "version": "3.6.7"
  }
 },
 "nbformat": 4,
 "nbformat_minor": 2
}
